{
 "cells": [
  {
   "cell_type": "code",
   "execution_count": 1,
   "metadata": {},
   "outputs": [],
   "source": [
    "from zabbix_api import ZabbixAPI\n",
    "from datetime import datetime\n",
    "import time\n",
    "import pandas as pd"
   ]
  },
  {
   "cell_type": "code",
   "execution_count": 2,
   "metadata": {},
   "outputs": [
    {
     "name": "stdout",
     "output_type": "stream",
     "text": [
      "Connected to Zabbix API Version 3.4.10\n"
     ]
    }
   ],
   "source": [
    "zapi = ZabbixAPI(\"https://sm-fe01.webmonitor.global\")\n",
    "# Disable SSL certificate verification\n",
    "zapi.session.verify = False\n",
    "# Specify a timeout (in seconds)\n",
    "zapi.timeout = 10.1\n",
    "# informacoes de acesso\n",
    "zapi.login(\"linx.rafael\", \"stk456rfs\")\n",
    "# mostra versao do zabbix\n",
    "print(\"Connected to Zabbix API Version %s\" % zapi.api_version())"
   ]
  },
  {
   "cell_type": "code",
   "execution_count": 3,
   "metadata": {},
   "outputs": [],
   "source": [
    "import mysql.connector\n",
    "\n",
    "from mysql.connector import errorcode \n",
    "\n",
    "# obtendo conection string \n",
    "config = {\n",
    "    'host':'192.168.121.246',\n",
    "    'user':'API',\n",
    "    'password':'stk456rfs',\n",
    "    'database':'novokpi'\n",
    "}"
   ]
  },
  {
   "cell_type": "code",
   "execution_count": 4,
   "metadata": {},
   "outputs": [
    {
     "name": "stdout",
     "output_type": "stream",
     "text": [
      "Connection established\n"
     ]
    }
   ],
   "source": [
    "# Construct connection string\n",
    "try:\n",
    "   conn = mysql.connector.connect(**config)\n",
    "   df = pd.read_sql('select * from tb_item', conn)\n",
    "   print(\"Connection established\")\n",
    "except mysql.connector.Error as err:\n",
    "  if err.errno == errorcode.ER_ACCESS_DENIED_ERROR:\n",
    "    print(\"Something is wrong with the user name or password\")\n",
    "  elif err.errno == errorcode.ER_BAD_DB_ERROR:\n",
    "    print(\"Database does not exist\")\n",
    "  else:\n",
    "    print(err)\n",
    "else:\n",
    "  cursor = conn.cursor()"
   ]
  },
  {
   "cell_type": "code",
   "execution_count": 5,
   "metadata": {},
   "outputs": [
    {
     "name": "stdout",
     "output_type": "stream",
     "text": [
      "1547050599.0\n"
     ]
    }
   ],
   "source": [
    "# Criar o intervalo de coleta \n",
    "time_from = time.mktime(datetime.now().timetuple()) - 60 * 60 * 24  # 1 dia (inteiro)\n",
    "print(time_from)"
   ]
  },
  {
   "cell_type": "code",
   "execution_count": 6,
   "metadata": {},
   "outputs": [
    {
     "name": "stdout",
     "output_type": "stream",
     "text": [
      "109\n",
      "5\n",
      "     item_id  item_id_zabbix item_produto  \\\n",
      "0          1         2212476         MIDe   \n",
      "1          2         2212479         MIDe   \n",
      "2          3         2212481         MIDe   \n",
      "3          4         2212483         MIDe   \n",
      "4          5         2198455         MIDe   \n",
      "5          6         2198498         MIDe   \n",
      "6          7         2199995         MIDe   \n",
      "7          8         2198369         MIDe   \n",
      "8          9         2198412         MIDe   \n",
      "9         10         2003427         DTEF   \n",
      "10        11          917847     Microvix   \n",
      "11        12         2156697     Microvix   \n",
      "12        13         2184022     Microvix   \n",
      "13        14          878233     Microvix   \n",
      "14        15          878234     Microvix   \n",
      "15        16          878235     Microvix   \n",
      "16        17          878236     Microvix   \n",
      "17        18          878237     Microvix   \n",
      "18        19          878238     Microvix   \n",
      "19        20          878239     Microvix   \n",
      "20        21          878240     Microvix   \n",
      "21        22          878241     Microvix   \n",
      "22        23          878242     Microvix   \n",
      "23        24          878243     Microvix   \n",
      "24        25          878244     Microvix   \n",
      "25        26          878245     Microvix   \n",
      "26        27          878246     Microvix   \n",
      "27        28         2031527           UX   \n",
      "28        29         2050988           UX   \n",
      "29        30         2098521           UX   \n",
      "..       ...             ...          ...   \n",
      "79        80         1213619      Rezende   \n",
      "80        81         1213621      Rezende   \n",
      "81        82         1213622      Rezende   \n",
      "82        83         1213623      Rezende   \n",
      "83        84         1213624      Rezende   \n",
      "84        85         1213625      Rezende   \n",
      "85        86         2182292      Rezende   \n",
      "86        87         2182293      Rezende   \n",
      "87        88         2182294      Rezende   \n",
      "88        89         2182295      Rezende   \n",
      "89        90         2182296      Rezende   \n",
      "90        91         2182297      Rezende   \n",
      "91        92         2182298      Rezende   \n",
      "92        93         1013762          BIG   \n",
      "93        94         1013763          BIG   \n",
      "94        95         1013764          BIG   \n",
      "95        96         1013765          BIG   \n",
      "96        97         1013766          BIG   \n",
      "97        98         1013767          BIG   \n",
      "98        99         1013768          BIG   \n",
      "99       100         1013769          BIG   \n",
      "100      101         1013770          BIG   \n",
      "101      102         1013771          BIG   \n",
      "102      103         1933985          BIG   \n",
      "103      104         2183984          BIG   \n",
      "104      105         2211250       Seller   \n",
      "105      106         2211251       Seller   \n",
      "106      107         2211262       Seller   \n",
      "107      108         2211260       Seller   \n",
      "108      109         2360714         MIDe   \n",
      "\n",
      "                                    item_name       item_vertical  \n",
      "0                      Tempo MID_central_5min                 MID  \n",
      "1                         Tempo MID6_ral_5min                 MID  \n",
      "2                 Tempo MID4_centcentral_5min                 MID  \n",
      "3                     Tempo MID5_central_5min                 MID  \n",
      "4               Contingencia_MIDCentral_60min                 MID  \n",
      "5                Contingencia_MID_mide6_60min                 MID  \n",
      "6                           Offline_MID_mide6                 MID  \n",
      "7          Contingencia_MID_azure_mide4_60min                 MID  \n",
      "8          Contingencia_MID_azure_mide5_60min                 MID  \n",
      "9              Tempo Autorizacao (LINX + ADQ)  Meios de Pagamento  \n",
      "10                         Tempo ERP Microvix            Shopping  \n",
      "11                         Tempo POS Microvix            Shopping  \n",
      "12               Tempo SincronizaÃ§Ã£o do PDV            Shopping  \n",
      "13                    Transacional MVX PROD1             Shopping  \n",
      "14                    Transacional MVX PROD2             Shopping  \n",
      "15                   Transacional MVX PROD3              Shopping  \n",
      "16                   Transacional MVX PROD4              Shopping  \n",
      "17                   Transacional MVX PROD5              Shopping  \n",
      "18                   Transacional MVX PROD6              Shopping  \n",
      "19                   Transacional MVX PROD7              Shopping  \n",
      "20                   Transacional MVX PROD8              Shopping  \n",
      "21                   Transacional MVX PROD9              Shopping  \n",
      "22                  Transacional MVX PROD10              Shopping  \n",
      "23                  Transacional MVX PROD11              Shopping  \n",
      "24                  Transacional MVX PROD12              Shopping  \n",
      "25                  Transacional MVX PROD13              Shopping  \n",
      "26                   Transacional MVX PROD14             Shopping  \n",
      "27        Tempo Aut UX - Autenticacao - Azure            Shopping  \n",
      "28           Tempo Aut UX - Atenticacao - AMC            Shopping  \n",
      "29           Tempo Aut UX - Atenticacao - DLG            Shopping  \n",
      "..                                        ...                 ...  \n",
      "79           Tempo LM15-B3-EMSYS: Performance              Postos  \n",
      "80        Tempo XCH01-PG02-EMSYS: Performance              Postos  \n",
      "81        Tempo XCH01-PG03-EMSYS: Performance              Postos  \n",
      "82        Tempo XCH01-PG04-EMSYS: Performance              Postos  \n",
      "83        Tempo XCH01-PG05-EMSYS: Performance              Postos  \n",
      "84        Tempo XCH01-PG06-EMSYS: Performance              Postos  \n",
      "85   Tempo emsysprd-vppg01-EMSYS: Performance              Postos  \n",
      "86   Tempo emsysprd-vppg02-EMSYS: Performance              Postos  \n",
      "87   Tempo emsysprd-vppg03-EMSYS: Performance              Postos  \n",
      "88   Tempo emsysprd-vppg04-EMSYS: Performance              Postos  \n",
      "89   Tempo emsysprd-vppg05-EMSYS: Performance              Postos  \n",
      "90   Tempo emsysprd-vppg06-EMSYS: Performance              Postos  \n",
      "91   Tempo emsysprd-vppg07-EMSYS: Performance              Postos  \n",
      "92               Tempo LNXBIGWEB08-BIGCONECTA               Farma  \n",
      "93               Tempo LNXBIGWEB09-BIGCONECTA               Farma  \n",
      "94               Tempo LNXBIGWEB07-BIGCONECTA               Farma  \n",
      "95               Tempo LNXBIGWEB10-BIGCONECTA               Farma  \n",
      "96               Tempo LNXBIGWEB11-BIGCONECTA               Farma  \n",
      "97                Tempo LNXBIGDB07-BIGCONECTA               Farma  \n",
      "98                Tempo LNXBIGDB08-BIGCONECTA               Farma  \n",
      "99                Tempo LNXBIGDB09-BIGCONECTA               Farma  \n",
      "100               Tempo LNXBIGDB10-BIGCONECTA               Farma  \n",
      "101               Tempo LNXBIGDB11-BIGCONECTA               Farma  \n",
      "102               Tempo LNXBIGDB16-BIGCONECTA               Farma  \n",
      "103               Tempo LNXBIGDB18-BIGCONECTA               Farma  \n",
      "104                       Tempo Login Seller               Postos  \n",
      "105             Tempo Seller Consultar Vendas              Postos  \n",
      "106         Tempo Seller lancamento de Vendas              Postos  \n",
      "107     Tempo Seller Livro de Movimento Caixa              Postos  \n",
      "108                         Tempo MIDevo 5min                 MID  \n",
      "\n",
      "[109 rows x 5 columns]\n"
     ]
    }
   ],
   "source": [
    "count_row = df.shape[0]  # gives number of row count\n",
    "count_col = df.shape[1]  # gives number of col count\n",
    "\n",
    "print(count_row)\n",
    "print(count_col)\n",
    "print(df)"
   ]
  },
  {
   "cell_type": "code",
   "execution_count": 7,
   "metadata": {},
   "outputs": [
    {
     "name": "stdout",
     "output_type": "stream",
     "text": [
      "1\n",
      "2212476\n",
      "MIDe\n"
     ]
    },
    {
     "ename": "NameError",
     "evalue": "name 'dtItem' is not defined",
     "output_type": "error",
     "traceback": [
      "\u001b[0;31m---------------------------------------------------------------------------\u001b[0m",
      "\u001b[0;31mNameError\u001b[0m                                 Traceback (most recent call last)",
      "\u001b[0;32m<ipython-input-7-6175597b0f4b>\u001b[0m in \u001b[0;36m<module>\u001b[0;34m()\u001b[0m\n\u001b[1;32m     26\u001b[0m         \u001b[0mvalorItem\u001b[0m \u001b[0;34m=\u001b[0m \u001b[0;34m(\u001b[0m\u001b[0;34m'{1}'\u001b[0m\u001b[0;34m.\u001b[0m\u001b[0mformat\u001b[0m\u001b[0;34m(\u001b[0m\u001b[0mdatetime\u001b[0m\u001b[0;34m.\u001b[0m\u001b[0mfromtimestamp\u001b[0m\u001b[0;34m(\u001b[0m\u001b[0mint\u001b[0m\u001b[0;34m(\u001b[0m\u001b[0mpoint\u001b[0m\u001b[0;34m[\u001b[0m\u001b[0;34m'clock'\u001b[0m\u001b[0;34m]\u001b[0m\u001b[0;34m)\u001b[0m\u001b[0;34m)\u001b[0m\u001b[0;34m.\u001b[0m\u001b[0mstrftime\u001b[0m\u001b[0;34m(\u001b[0m\u001b[0;34m\"%x %X\"\u001b[0m\u001b[0;34m)\u001b[0m\u001b[0;34m,\u001b[0m \u001b[0mpoint\u001b[0m\u001b[0;34m[\u001b[0m\u001b[0;34m'value'\u001b[0m\u001b[0;34m]\u001b[0m\u001b[0;34m)\u001b[0m\u001b[0;34m)\u001b[0m\u001b[0;34m\u001b[0m\u001b[0m\n\u001b[1;32m     27\u001b[0m \u001b[0;34m\u001b[0m\u001b[0m\n\u001b[0;32m---> 28\u001b[0;31m     \u001b[0mprint\u001b[0m\u001b[0;34m(\u001b[0m\u001b[0mdtItem\u001b[0m\u001b[0;34m)\u001b[0m\u001b[0;34m\u001b[0m\u001b[0m\n\u001b[0m\u001b[1;32m     29\u001b[0m \u001b[0;34m\u001b[0m\u001b[0m\n\u001b[1;32m     30\u001b[0m     \u001b[0;31m#vi = valorItem.replace('.' , ',')\u001b[0m\u001b[0;34m\u001b[0m\u001b[0;34m\u001b[0m\u001b[0m\n",
      "\u001b[0;31mNameError\u001b[0m: name 'dtItem' is not defined"
     ]
    }
   ],
   "source": [
    "n = 0\n",
    "count_row = df.shape[0] \n",
    "\n",
    "\n",
    "while  n < count_row:\n",
    "    \n",
    "    item_id = df.loc[n, 'item_id']\n",
    "    print(item_id)\n",
    "    \n",
    "    item_id_zabbix = df['item_id_zabbix'].loc[n]\n",
    "    print(item_id_zabbix)\n",
    "    \n",
    "    item_produto = df['item_produto'].loc[n]\n",
    "    print(item_produto)\n",
    "    \n",
    "    \n",
    "    historico = zapi.history.get({ 'itemids': [ str(item_id_zabbix) ], \n",
    "    'history': 0, \n",
    "    'output': 'extend', \n",
    "    'time_from': time_from, \n",
    "    }) \n",
    "\n",
    "    for point in historico:       # Ver uma possibilidade logica de colocar um looping aqui pois alguns dados podem ter mais de uma amostra no mesmo periodo isso é um saco!!!!\n",
    "        # tem que converter o dado da API para manter em variavel\n",
    "        dtItem = (\"{0}\".format(datetime.fromtimestamp(int(point['clock'])).strftime(\"%x %X\"), point['value']))\n",
    "        valorItem = ('{1}'.format(datetime.fromtimestamp(int(point['clock'])).strftime(\"%x %X\"), point['value']))\n",
    "        \n",
    "    print(dtItem)\n",
    "\n",
    "    #vi = valorItem.replace('.' , ',')\n",
    "\n",
    "    vi = float(valorItem)\n",
    "    print(vi)\n",
    "        \n",
    "    # Inserir os dados na tabela (preferivel já ter mapeada)\n",
    "    cursor.execute(\"INSERT INTO tb_kpi(tb_item_item_id, kpi_valor, kpi_dttime) VALUES('\" + str(item_id) + \"','\" + str(vi) + \"','\" + str(dtItem) + \"')\")\n",
    "    print(\"Inserted\",cursor.rowcount,\"row(s) of data.\")\n",
    "    \n",
    "\n",
    "    print('----------------------------------------------------')\n",
    "    n = n + 1"
   ]
  },
  {
   "cell_type": "code",
   "execution_count": null,
   "metadata": {},
   "outputs": [],
   "source": [
    "# Cleanup\n",
    "\n",
    "conn.commit()\n",
    "cursor.close()\n",
    "conn.close()\n",
    "\n",
    "print(\"Connection finished\")\n",
    "print(\"Done.\")"
   ]
  }
 ],
 "metadata": {
  "kernelspec": {
   "display_name": "Python 3",
   "language": "python",
   "name": "python3"
  },
  "language_info": {
   "codemirror_mode": {
    "name": "ipython",
    "version": 3
   },
   "file_extension": ".py",
   "mimetype": "text/x-python",
   "name": "python",
   "nbconvert_exporter": "python",
   "pygments_lexer": "ipython3",
   "version": "3.7.1"
  }
 },
 "nbformat": 4,
 "nbformat_minor": 2
}
